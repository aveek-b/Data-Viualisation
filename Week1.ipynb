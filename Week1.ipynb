{
 "cells": [
  {
   "cell_type": "code",
   "execution_count": null,
   "id": "7d37c515",
   "metadata": {
    "scrolled": true
   },
   "outputs": [],
   "source": [
    "x=int(input(\"Enter number 1\"))\n",
    "y=int(input(\"Enter number 2\"))\n",
    "\n",
    "def func(x,y):\n",
    "\n",
    "    print(\"The sum is\",x+y)\n",
    "    print(\"The difference is\",x-y)\n",
    "    print(\"The product is\",x*y)\n",
    "    print(\"The quotient is\",x/y)\n",
    "func(x,y)"
   ]
  },
  {
   "cell_type": "code",
   "execution_count": null,
   "id": "a59890f6",
   "metadata": {},
   "outputs": [],
   "source": [
    "\n",
    "    "
   ]
  },
  {
   "cell_type": "code",
   "execution_count": null,
   "id": "d89c59bc",
   "metadata": {},
   "outputs": [],
   "source": [
    "def prime(x):\n",
    "    i=2\n",
    "    p=1\n",
    "    if x==1:\n",
    "        p=0\n",
    "    while i<=x//2:\n",
    "        if x%i==0:\n",
    "            p=0\n",
    "        if p==1:\n",
    "            return True\n",
    "        else:\n",
    "            return False\n",
    "    \n",
    "x=int(input(\"Enter number\"))\n",
    "print(prime(x))"
   ]
  },
  {
   "cell_type": "code",
   "execution_count": 4,
   "id": "903cb86a",
   "metadata": {
    "scrolled": true
   },
   "outputs": [
    {
     "name": "stdout",
     "output_type": "stream",
     "text": [
      "1\n",
      "3\n",
      "5\n",
      "7\n",
      "9\n",
      "11\n",
      "13\n",
      "15\n",
      "17\n",
      "19\n",
      "21\n",
      "23\n",
      "25\n",
      "27\n",
      "29\n",
      "31\n",
      "33\n",
      "35\n",
      "37\n",
      "39\n",
      "41\n",
      "43\n",
      "45\n",
      "47\n",
      "49\n",
      "51\n",
      "53\n",
      "55\n",
      "57\n",
      "59\n",
      "61\n",
      "63\n",
      "65\n",
      "67\n",
      "69\n",
      "71\n",
      "73\n",
      "75\n",
      "77\n",
      "79\n",
      "81\n",
      "83\n",
      "85\n",
      "87\n",
      "89\n",
      "91\n",
      "93\n",
      "95\n",
      "97\n",
      "99\n",
      "Sum of all even numbers is equal to 2550\n"
     ]
    }
   ],
   "source": [
    "def odd():\n",
    "    sum1=0\n",
    "    for i in range(1,101):\n",
    "        if i%2!=0:\n",
    "            print(i)\n",
    "        else:\n",
    "            sum1+=i\n",
    "    print(\"Sum of all even numbers is equal to\",sum1)    \n",
    "odd()"
   ]
  },
  {
   "cell_type": "code",
   "execution_count": 3,
   "id": "23fecfbc",
   "metadata": {},
   "outputs": [
    {
     "name": "stdout",
     "output_type": "stream",
     "text": [
      "Enter vriable 12.0\n",
      "Enter variable 21.3\n",
      "3.3\n"
     ]
    }
   ],
   "source": [
    "def add(x,y):\n",
    "    if x.isnumeric():\n",
    "        print(int(x)+int(y))\n",
    "    elif x.isalpha():\n",
    "        print(x+y)\n",
    "    else:\n",
    "        print(float(x)+float(y))\n",
    "\n",
    "x=input(\"Enter vriable 1\")\n",
    "y=input(\"Enter variable 2\")\n",
    "add(x,y)"
   ]
  },
  {
   "cell_type": "code",
   "execution_count": null,
   "id": "48da0966",
   "metadata": {},
   "outputs": [],
   "source": []
  },
  {
   "cell_type": "code",
   "execution_count": null,
   "id": "63c5a567",
   "metadata": {},
   "outputs": [],
   "source": []
  },
  {
   "cell_type": "code",
   "execution_count": null,
   "id": "722cb4bf",
   "metadata": {},
   "outputs": [],
   "source": []
  },
  {
   "cell_type": "code",
   "execution_count": null,
   "id": "d992140a",
   "metadata": {},
   "outputs": [],
   "source": []
  },
  {
   "cell_type": "code",
   "execution_count": null,
   "id": "b224162f",
   "metadata": {},
   "outputs": [],
   "source": []
  },
  {
   "cell_type": "code",
   "execution_count": null,
   "id": "b7898d85",
   "metadata": {},
   "outputs": [],
   "source": []
  },
  {
   "cell_type": "code",
   "execution_count": null,
   "id": "603fba97",
   "metadata": {},
   "outputs": [],
   "source": []
  }
 ],
 "metadata": {
  "kernelspec": {
   "display_name": "Python 3 (ipykernel)",
   "language": "python",
   "name": "python3"
  },
  "language_info": {
   "codemirror_mode": {
    "name": "ipython",
    "version": 3
   },
   "file_extension": ".py",
   "mimetype": "text/x-python",
   "name": "python",
   "nbconvert_exporter": "python",
   "pygments_lexer": "ipython3",
   "version": "3.9.13"
  }
 },
 "nbformat": 4,
 "nbformat_minor": 5
}
