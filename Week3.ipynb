{
 "cells": [
  {
   "cell_type": "code",
   "execution_count": 1,
   "metadata": {},
   "outputs": [],
   "source": [
    "import numpy as np"
   ]
  },
  {
   "cell_type": "markdown",
   "metadata": {},
   "source": [
    "# Program 1\n",
    "Generate a 3x4 NumPy array with random integers between 1 and 50."
   ]
  },
  {
   "cell_type": "code",
   "execution_count": 2,
   "metadata": {},
   "outputs": [
    {
     "data": {
      "text/plain": [
       "array([[45, 44, 20,  6],\n",
       "       [ 5, 43, 45,  8],\n",
       "       [27, 33,  7, 37]])"
      ]
     },
     "execution_count": 2,
     "metadata": {},
     "output_type": "execute_result"
    }
   ],
   "source": [
    "arr = np.random.randint(1, 50, (3, 4))\n",
    "arr"
   ]
  },
  {
   "cell_type": "markdown",
   "metadata": {},
   "source": [
    "Calculate and print the mean, median, and standard deviation of the array."
   ]
  },
  {
   "cell_type": "code",
   "execution_count": 3,
   "metadata": {},
   "outputs": [
    {
     "name": "stdout",
     "output_type": "stream",
     "text": [
      "26.666666666666668\n",
      "30.0\n",
      "15.97567595509568\n"
     ]
    }
   ],
   "source": [
    "print(np.mean(arr))\n",
    "print(np.median(arr))\n",
    "print(np.std(arr))"
   ]
  },
  {
   "cell_type": "markdown",
   "metadata": {},
   "source": [
    "Print the sum of all elements and the sum of each row."
   ]
  },
  {
   "cell_type": "code",
   "execution_count": 4,
   "metadata": {},
   "outputs": [
    {
     "name": "stdout",
     "output_type": "stream",
     "text": [
      "320\n",
      "[ 77 120  72  51]\n"
     ]
    }
   ],
   "source": [
    "print(np.sum(arr))\n",
    "print(np.sum(arr, axis=0))"
   ]
  },
  {
   "cell_type": "markdown",
   "metadata": {},
   "source": [
    "Reshape the 3x4 array into a 2x6 array and print it."
   ]
  },
  {
   "cell_type": "code",
   "execution_count": 5,
   "metadata": {},
   "outputs": [
    {
     "name": "stdout",
     "output_type": "stream",
     "text": [
      "[[45 44 20  6  5 43]\n",
      " [45  8 27 33  7 37]]\n"
     ]
    }
   ],
   "source": [
    "print(np.reshape(arr, (2, 6)))"
   ]
  },
  {
   "cell_type": "markdown",
   "metadata": {},
   "source": [
    "# Program 2\n",
    "Create two (3 * 3) matrices using NumPy and print it. Perform and print the results of the following linear algebra operations."
   ]
  },
  {
   "cell_type": "code",
   "execution_count": 6,
   "metadata": {},
   "outputs": [
    {
     "name": "stdout",
     "output_type": "stream",
     "text": [
      "[[41 40 78]\n",
      " [57  7 52]\n",
      " [23 67  2]]\n",
      "\n",
      "[[49 13 86]\n",
      " [85 83 18]\n",
      " [71 44 22]]\n"
     ]
    }
   ],
   "source": [
    "x = np.random.randint(1, 100, (3, 3))\n",
    "y = np.random.randint(1, 100, (3, 3))\n",
    "print(x)\n",
    "print()\n",
    "print(y)"
   ]
  },
  {
   "cell_type": "markdown",
   "metadata": {},
   "source": [
    "Matrix addition"
   ]
  },
  {
   "cell_type": "code",
   "execution_count": 7,
   "metadata": {},
   "outputs": [
    {
     "name": "stdout",
     "output_type": "stream",
     "text": [
      "[[ 90  53 164]\n",
      " [142  90  70]\n",
      " [ 94 111  24]]\n"
     ]
    }
   ],
   "source": [
    "print(x + y)"
   ]
  },
  {
   "cell_type": "markdown",
   "metadata": {},
   "source": [
    "Matrix subtraction"
   ]
  },
  {
   "cell_type": "code",
   "execution_count": 8,
   "metadata": {},
   "outputs": [
    {
     "name": "stdout",
     "output_type": "stream",
     "text": [
      "[[ -8  27  -8]\n",
      " [-28 -76  34]\n",
      " [-48  23 -20]]\n"
     ]
    }
   ],
   "source": [
    "print(x - y)"
   ]
  },
  {
   "cell_type": "markdown",
   "metadata": {},
   "source": [
    "Matrix multiplication (element-wise and dot product)"
   ]
  },
  {
   "cell_type": "code",
   "execution_count": 9,
   "metadata": {},
   "outputs": [
    {
     "name": "stdout",
     "output_type": "stream",
     "text": [
      "[[10947  7285  5962]\n",
      " [ 7080  3610  6172]\n",
      " [ 6964  5948  3228]]\n"
     ]
    }
   ],
   "source": [
    "print(x @ y)"
   ]
  },
  {
   "cell_type": "markdown",
   "metadata": {},
   "source": [
    "Transpose of a matrix"
   ]
  },
  {
   "cell_type": "code",
   "execution_count": 10,
   "metadata": {},
   "outputs": [
    {
     "name": "stdout",
     "output_type": "stream",
     "text": [
      "[[41 57 23]\n",
      " [40  7 67]\n",
      " [78 52  2]]\n",
      "\n",
      "[[49 85 71]\n",
      " [13 83 44]\n",
      " [86 18 22]]\n"
     ]
    }
   ],
   "source": [
    "print(x.T)\n",
    "print()\n",
    "print(y.T)"
   ]
  },
  {
   "cell_type": "markdown",
   "metadata": {},
   "source": [
    "Determinant and inverse (if applicable)"
   ]
  },
  {
   "cell_type": "code",
   "execution_count": 11,
   "metadata": {},
   "outputs": [
    {
     "name": "stdout",
     "output_type": "stream",
     "text": [
      "186334.00000000006\n",
      "\n",
      "-142188.00000000012\n",
      "\n",
      "[[-0.01862247  0.02761707  0.00823253]\n",
      " [ 0.00580678 -0.0091878   0.01241856]\n",
      " [ 0.01963141 -0.00980497 -0.01069585]]\n",
      "\n",
      "[[-0.00727206 -0.02460123  0.04855543]\n",
      " [ 0.0041635   0.03536163 -0.04520775]\n",
      " [ 0.01514192  0.00867162 -0.02083158]]\n"
     ]
    }
   ],
   "source": [
    "print(np.linalg.det(x))\n",
    "print()\n",
    "print(np.linalg.det(y))\n",
    "print()\n",
    "print(np.linalg.inv(x))\n",
    "print()\n",
    "print(np.linalg.inv(y))"
   ]
  }
 ],
 "metadata": {
  "colab": {
   "provenance": []
  },
  "kernelspec": {
   "display_name": "base",
   "language": "python",
   "name": "python3"
  },
  "language_info": {
   "codemirror_mode": {
    "name": "ipython",
    "version": 3
   },
   "file_extension": ".py",
   "mimetype": "text/x-python",
   "name": "python",
   "nbconvert_exporter": "python",
   "pygments_lexer": "ipython3",
   "version": "3.12.8"
  }
 },
 "nbformat": 4,
 "nbformat_minor": 1
}
