{
 "cells": [
  {
   "cell_type": "markdown",
   "id": "c36fb20d",
   "metadata": {},
   "source": [
    "# Week 6 Data Analysis"
   ]
  },
  {
   "cell_type": "code",
   "execution_count": null,
   "id": "180b839a",
   "metadata": {},
   "outputs": [],
   "source": [
    "import pandas as pd\n",
    "import numpy as np\n",
    "import matplotlib.pyplot as plt\n",
    "import seaborn as sns\n",
    "from IPython.display import display\n"
   ]
  },
  {
   "cell_type": "code",
   "execution_count": null,
   "id": "4ea62078",
   "metadata": {},
   "outputs": [],
   "source": [
    "df = pd.read_csv('Cereals.csv')\n",
    "display(df)"
   ]
  },
  {
   "cell_type": "code",
   "execution_count": null,
   "id": "6ecb5bfa",
   "metadata": {},
   "outputs": [],
   "source": [
    "print('Cleaning up the dataset...')\n",
    "df.replace('?', np.nan, inplace=True)\n",
    "df['carbo'] = df['carbo'].astype(float)\n",
    "df['sugars'] = df['sugars'].astype(float)\n",
    "df['potass'] = df['potass'].astype(float)\n",
    "dup = df.drop_duplicates(subset='name')\n",
    "print(dup.shape[0], 'unique brands are there')"
   ]
  },
  {
   "cell_type": "code",
   "execution_count": null,
   "id": "c07704a0",
   "metadata": {},
   "outputs": [],
   "source": [
    "mfr_counts = df['mfr'].value_counts()\n",
    "plt.figure(figsize=(10, 6))\n",
    "sns.barplot(x=mfr_counts.index, y=mfr_counts.values, palette='Set2')\n",
    "plt.title('Number of Cereals Listed Per Manufacturer')\n",
    "plt.xlabel('Manufacturer')\n",
    "plt.ylabel('Number of Cereals')\n",
    "plt.tight_layout()\n",
    "plt.show()"
   ]
  },
  {
   "cell_type": "code",
   "execution_count": null,
   "id": "05b67f97",
   "metadata": {},
   "outputs": [],
   "source": [
    "typecount = df['type'].value_counts()\n",
    "plt.figure(figsize=(8, 8))\n",
    "typecount.plot(kind='pie', autopct='%1.1f%%', startangle=90, colors=['lightblue', 'orange'])\n",
    "plt.title('Distribution of Hot vs Cold Cereals')\n",
    "plt.ylabel('')\n",
    "plt.show()"
   ]
  },
  {
   "cell_type": "code",
   "execution_count": null,
   "id": "4e666708",
   "metadata": {},
   "outputs": [],
   "source": [
    "best_cereal = df.loc[df['rating'].idxmax()]\n",
    "worst_cereal = df.loc[df['rating'].idxmin()]\n",
    "print(f\"Best Cereal: {best_cereal['name']} with Rating: {best_cereal['rating']}\")\n",
    "print(f\"Worst Cereal: {worst_cereal['name']} with Rating: {worst_cereal['rating']}\")\n",
    "plt.figure(figsize=(10, 6))\n",
    "sns.barplot(x=['Best Cereal', 'Worst Cereal'], y=[best_cereal['rating'], worst_cereal['rating']])\n",
    "plt.title('Best and Worst Cereal Ratings')\n",
    "plt.ylabel('Rating')\n",
    "plt.show()"
   ]
  },
  {
   "cell_type": "code",
   "execution_count": null,
   "id": "367983ac",
   "metadata": {},
   "outputs": [],
   "source": [
    "max_fiber = df['fiber'].max()\n",
    "min_sugar = df['sugars'].min()\n",
    "highest_fiber_cereals = df[df['fiber'] == max_fiber]\n",
    "lowest_sugar_cereals = df[df['sugars'] == min_sugar]\n",
    "print(f\"Cereals with highest fiber ({max_fiber}g of fiber):\")\n",
    "print(highest_fiber_cereals[['name', 'fiber']])\n",
    "print(f\"\\nCereals with lowest sugar ({min_sugar}g of sugar):\")\n",
    "print(lowest_sugar_cereals[['name', 'sugars']])\n",
    "plt.figure(figsize=(10, 6))\n",
    "sns.boxplot(data=df, x='type', y='rating', palette='Set2')\n",
    "plt.title('Rating Comparison for Hot vs Cold Cereals')\n",
    "plt.xlabel('Cereal Type')\n",
    "plt.ylabel('Rating')\n",
    "plt.show()"
   ]
  },
  {
   "cell_type": "code",
   "execution_count": null,
   "id": "fe23edf2",
   "metadata": {},
   "outputs": [],
   "source": [
    "high_protein_cereals = df[df['protein'] > 3]\n",
    "plt.figure(figsize=(12, 6))\n",
    "sns.barplot(x='protein', y='name', data=high_protein_cereals, palette='Blues')\n",
    "plt.title('Cereals with More Than 3 Grams of Protein')\n",
    "plt.xlabel('Protein (g)')\n",
    "plt.ylabel('Cereal Name')\n",
    "plt.tight_layout()\n",
    "plt.show()\n",
    "shelf_counts = df['shelf'].value_counts()\n",
    "plt.figure(figsize=(10, 6))\n",
    "sns.barplot(x=shelf_counts.index, y=shelf_counts.values, palette='Set3')\n",
    "plt.title('Cereals by Display Shelf')\n",
    "plt.xlabel('Shelf Position')\n",
    "plt.ylabel('Number of Cereals')\n",
    "plt.tight_layout()\n",
    "plt.show()"
   ]
  },
  {
   "cell_type": "code",
   "execution_count": null,
   "id": "7663372f",
   "metadata": {},
   "outputs": [],
   "source": [
    "plt.figure(figsize=(12, 6))\n",
    "sns.boxplot(data=df, x='mfr', y='sugars', palette='Set3')\n",
    "plt.title('Sugar Content Variation Across Different Brands')\n",
    "plt.xlabel('Manufacturer')\n",
    "plt.ylabel('Sugar Content (g)')\n",
    "plt.xticks(rotation=45)\n",
    "plt.show()\n",
    "avg_calories_mfr = df.groupby('mfr')['calories'].mean()\n",
    "plt.figure(figsize=(10, 6))\n",
    "sns.barplot(x=avg_calories_mfr.index, y=avg_calories_mfr.values, palette='BuPu')\n",
    "plt.title('Average Calories in Cereals per Manufacturer')\n",
    "plt.xlabel('Manufacturer')\n",
    "plt.ylabel('Average Calories')\n",
    "plt.tight_layout()\n",
    "plt.show()"
   ]
  },
  {
   "cell_type": "code",
   "execution_count": null,
   "id": "d997782e",
   "metadata": {},
   "outputs": [],
   "source": [
    "avg_nutrition = df[['calories', 'protein', 'fat', 'sodium', 'fiber', 'carbo', 'sugars','potass','vitamins']].mean()\n",
    "avg_nutrition.plot(kind='bar', figsize=(10, 6))\n",
    "plt.title('Average Nutritional Content Across All Cereals')\n",
    "plt.ylabel('Average Amount')\n",
    "plt.xlabel('Nutritional Component')\n",
    "plt.tight_layout()\n",
    "plt.show()\n",
    "plt.figure(figsize=(10, 6))\n",
    "sns.scatterplot(data=df, x='sugars', y='calories', hue='type', style='type', palette='Set2')\n",
    "plt.title('Relationship Between Sugar and Calories')\n",
    "plt.xlabel('Sugar Content (g)')\n",
    "plt.ylabel('Calories')\n",
    "plt.show()"
   ]
  },
  {
   "cell_type": "code",
   "execution_count": null,
   "id": "914ac8b9",
   "metadata": {},
   "outputs": [],
   "source": [
    "rating_median = df['rating'].median()\n",
    "df['rating_group'] = df['rating'].apply(lambda x: 'High Rating' if x > rating_median else 'Low Rating')\n",
    "plt.figure(figsize=(10, 6))\n",
    "sns.boxplot(x='rating_group', y='sugars', data=df, palette='Set2')\n",
    "plt.title('Sugar Content Comparison for High vs Low Rated Cereals')\n",
    "plt.xlabel('Rating Group')\n",
    "plt.ylabel('Sugar Content (g)')\n",
    "plt.tight_layout()\n",
    "plt.show()"
   ]
  },
  {
   "cell_type": "code",
   "execution_count": null,
   "id": "b055d231",
   "metadata": {},
   "outputs": [],
   "source": [
    "corr_matrix = df[['fiber', 'sugars', 'rating']].corr()\n",
    "plt.figure(figsize=(8, 6))\n",
    "sns.heatmap(corr_matrix, annot=True, cmap='coolwarm', vmin=-1, vmax=1, linewidths=0.5)\n",
    "plt.title('Correlation Matrix: Fiber, Sugar, and Rating')\n",
    "plt.tight_layout()\n",
    "plt.show()\n",
    "plt.figure(figsize=(10, 6))\n",
    "sns.scatterplot(x='fiber', y='rating', data=df, hue='mfr', palette='Set2', alpha=0.7)\n",
    "plt.title('Scatter Plot: Fiber vs Rating')\n",
    "plt.xlabel('Fiber Content (g)')\n",
    "plt.ylabel('Rating')\n",
    "plt.tight_layout()\n",
    "plt.show()\n",
    "plt.figure(figsize=(10, 6))\n",
    "sns.scatterplot(x='sugars', y='rating', data=df, hue='mfr', palette='Set2', alpha=0.7)\n",
    "plt.title('Scatter Plot: Sugar vs Rating')\n",
    "plt.xlabel('Sugar Content (g)')\n",
    "plt.ylabel('Rating')\n",
    "plt.tight_layout()\n",
    "plt.show()"
   ]
  },
  {
   "cell_type": "code",
   "execution_count": null,
   "id": "e913dede",
   "metadata": {},
   "outputs": [],
   "source": [
    "plt.figure(figsize=(10, 6))\n",
    "sns.boxplot(data=df, x='shelf', y='rating', palette='Set1')\n",
    "plt.title('Cereal Ratings by Display Shelf')\n",
    "plt.xlabel('Shelf Position')\n",
    "plt.ylabel('Rating')\n",
    "plt.show()"
   ]
  },
  {
   "cell_type": "markdown",
   "id": "de5d0525",
   "metadata": {},
   "source": [
    "## MTCARS Dataset Analysis"
   ]
  },
  {
   "cell_type": "code",
   "execution_count": null,
   "id": "054238ec",
   "metadata": {},
   "outputs": [],
   "source": [
    "df = pd.read_csv('mtcars.csv')\n",
    "display(df)"
   ]
  },
  {
   "cell_type": "code",
   "execution_count": null,
   "id": "b641df0b",
   "metadata": {},
   "outputs": [],
   "source": [
    "df['mpg'].plot(kind='hist', bins=10, title='Histogram Representation of MPG')\n",
    "plt.show()\n",
    "df['mpg'].plot(kind='box')\n",
    "plt.show()\n",
    "maxmpg = df.loc[df['mpg'].idxmax()]\n",
    "display(maxmpg)"
   ]
  },
  {
   "cell_type": "code",
   "execution_count": null,
   "id": "1bbdba30",
   "metadata": {},
   "outputs": [],
   "source": [
    "category_counts = df['am'].value_counts().reset_index()\n",
    "category_counts.columns = ['am', 'count']\n",
    "sns.barplot(x='am', y='count', data=category_counts)\n",
    "plt.title('Automatic vs Manual Cars')\n",
    "plt.show()"
   ]
  },
  {
   "cell_type": "code",
   "execution_count": null,
   "id": "e0ffe0fd",
   "metadata": {},
   "outputs": [],
   "source": [
    "minhp = df.loc[df['hp'].idxmin()]\n",
    "print(minhp)\n",
    "five_num_summary = df['disp'].describe()[['min', '25%', '50%', '75%', 'max']]\n",
    "print(five_num_summary)\n",
    "df['disp'].plot(kind='box')\n",
    "plt.show()"
   ]
  },
  {
   "cell_type": "code",
   "execution_count": null,
   "id": "7dcea128",
   "metadata": {},
   "outputs": [],
   "source": [
    "heavy = df.loc[df['wt'].idxmax()]\n",
    "print(\"The heaviest car is\", heavy['model'], \"with a weight of\", heavy['wt'], \". Gears\", heavy['gear'])\n",
    "qsec = df.loc[df['qsec'].idxmax()]\n",
    "print(\"Car with best qsec:\", qsec['model'])"
   ]
  },
  {
   "cell_type": "code",
   "execution_count": null,
   "id": "9d38db36",
   "metadata": {},
   "outputs": [],
   "source": [
    "manual_cars = df[df['am'] == 1]\n",
    "auto_cars = df[df['am'] == 0]\n",
    "print(\"Mean mpg of manual cars\", manual_cars['mpg'].mean())\n",
    "print(\"Mean mpg of automatic cars\", auto_cars['mpg'].mean())\n",
    "manual_cars['mpg'].plot(kind='box')\n",
    "plt.show()\n",
    "auto_cars['mpg'].plot(kind='box')\n",
    "plt.show()"
   ]
  },
  {
   "cell_type": "code",
   "execution_count": null,
   "id": "671dba56",
   "metadata": {},
   "outputs": [],
   "source": [
    "dfx = df[['mpg','wt']].reset_index(drop=True)\n",
    "dfx.plot(kind='scatter', x='mpg', y='wt', title='Scatter plot of mpg and wt')\n",
    "plt.show()"
   ]
  },
  {
   "cell_type": "code",
   "execution_count": null,
   "id": "d0d32307",
   "metadata": {},
   "outputs": [],
   "source": [
    "def categorize_gears(num_gears):\n",
    "    if num_gears <= 4:\n",
    "        return 'Low gears'\n",
    "    elif num_gears <= 6:\n",
    "        return 'Medium gears'\n",
    "    else:\n",
    "        return 'High gears'\n",
    "df['gear_category'] = df['gear'].apply(categorize_gears)\n",
    "display(df.head())"
   ]
  },
  {
   "cell_type": "code",
   "execution_count": null,
   "id": "99386222",
   "metadata": {},
   "outputs": [],
   "source": [
    "sns.scatterplot(x='gear', y='mpg', data=df)\n",
    "plt.title('Fuel Efficiency (MPG) vs Number of Gears')\n",
    "plt.xlabel('Number of Gears')\n",
    "plt.ylabel('Fuel Efficiency (MPG)')\n",
    "plt.show()\n",
    "plt.figure(figsize=(8, 6))\n",
    "sns.scatterplot(x='cyl', y='hp', data=df)\n",
    "plt.title('Horsepower (HP) vs Number of Cylinders')\n",
    "plt.xlabel('Number of Cylinders')\n",
    "plt.ylabel('Horsepower (HP)')\n",
    "plt.show()"
   ]
  },
  {
   "cell_type": "code",
   "execution_count": null,
   "id": "f073e2fd",
   "metadata": {},
   "outputs": [],
   "source": [
    "good_fuel_efficiency = df['mpg'] > df['mpg'].median()\n",
    "high_speed = df['hp'] > df['hp'].median()\n",
    "selected_cars = df[good_fuel_efficiency & high_speed]\n",
    "print(\"Cars with good fuel efficiency and high horsepower:\")\n",
    "print(selected_cars[['model', 'mpg', 'hp']])\n",
    "sns.scatterplot(x='hp', y='disp', data=df)\n",
    "plt.title('Horsepower (HP) vs Displacement')\n",
    "plt.xlabel('HP')\n",
    "plt.ylabel('Displacement')\n",
    "plt.show()"
   ]
  }
 ],
 "metadata": {},
 "nbformat": 4,
 "nbformat_minor": 5
}
