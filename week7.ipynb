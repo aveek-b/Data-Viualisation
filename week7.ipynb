{
 "cells": [
  {
   "cell_type": "markdown",
   "id": "58957f8a",
   "metadata": {},
   "source": [
    "# Week 7 IPL Matches Analysis"
   ]
  },
  {
   "cell_type": "code",
   "execution_count": null,
   "id": "40ee3e22",
   "metadata": {},
   "outputs": [],
   "source": [
    "import pandas as pd\n",
    "import numpy as np\n",
    "import matplotlib.pyplot as plt\n",
    "import seaborn as sns\n",
    "from IPython.display import display\n"
   ]
  },
  {
   "cell_type": "code",
   "execution_count": null,
   "id": "5dde3e49",
   "metadata": {},
   "outputs": [],
   "source": [
    "df = pd.read_csv('matches.csv')\n",
    "display(df)"
   ]
  },
  {
   "cell_type": "code",
   "execution_count": null,
   "id": "b9e62ebc",
   "metadata": {},
   "outputs": [],
   "source": [
    "display(df['team1'].unique())"
   ]
  },
  {
   "cell_type": "code",
   "execution_count": null,
   "id": "aef5ca9d",
   "metadata": {},
   "outputs": [],
   "source": [
    "plt.figure(figsize=(8, 12))\n",
    "sns.countplot(y=df['winner'])\n",
    "plt.xlabel('Number of Wins')\n",
    "plt.ylabel('Team')\n",
    "plt.title('Total Wins by Team')\n",
    "plt.tight_layout()\n",
    "plt.show()"
   ]
  },
  {
   "cell_type": "code",
   "execution_count": null,
   "id": "08af1588",
   "metadata": {},
   "outputs": [],
   "source": [
    "umpire3 = df['umpire3'].dropna().value_counts()\n",
    "if umpire3.empty:\n",
    "    print('No data')\n",
    "else:\n",
    "    display(umpire3)"
   ]
  },
  {
   "cell_type": "code",
   "execution_count": null,
   "id": "0f84ab2f",
   "metadata": {},
   "outputs": [],
   "source": [
    "plt.figure(figsize=(12, 6))\n",
    "sns.countplot(y=df['venue'])\n",
    "plt.xlabel('Number of Matches')\n",
    "plt.ylabel('Venue')\n",
    "plt.title('Matches per Venue')\n",
    "plt.tight_layout()\n",
    "plt.show()"
   ]
  },
  {
   "cell_type": "code",
   "execution_count": null,
   "id": "eeffc061",
   "metadata": {},
   "outputs": [],
   "source": [
    "top_players = df['player_of_match'].value_counts().head(10)\n",
    "plt.figure(figsize=(12, 6))\n",
    "sns.countplot(y=df['player_of_match'], order=top_players.index, palette='viridis')\n",
    "plt.xlabel('Number of Times Player of the Match')\n",
    "plt.ylabel('Player')\n",
    "plt.title('Top 10 Players of the Match')\n",
    "plt.tight_layout()\n",
    "plt.show()"
   ]
  },
  {
   "cell_type": "code",
   "execution_count": null,
   "id": "216235f0",
   "metadata": {},
   "outputs": [],
   "source": [
    "bottom_venues = df['venue'].value_counts().tail(10)\n",
    "plt.figure(figsize=(12, 6))\n",
    "sns.countplot(y=df['venue'], order=bottom_venues.index, palette='pastel')\n",
    "plt.xlabel('Number of Matches')\n",
    "plt.ylabel('Venue')\n",
    "plt.title('Bottom 10 Venues by Match Count')\n",
    "plt.tight_layout()\n",
    "plt.show()"
   ]
  },
  {
   "cell_type": "code",
   "execution_count": null,
   "id": "e5292a7b",
   "metadata": {},
   "outputs": [],
   "source": [
    "chepauk = df[df['venue'] == 'MA Chidambaram Stadium, Chepauk']\n",
    "chepauk_wins = chepauk['winner'].value_counts()\n",
    "plt.figure(figsize=(12, 6))\n",
    "sns.barplot(x=chepauk_wins.index, y=chepauk_wins.values, palette='magma')\n",
    "plt.xticks(rotation=45)\n",
    "plt.xlabel('Team')\n",
    "plt.ylabel('Wins at Chepauk')\n",
    "plt.title('Wins at MA Chidambaram Stadium, Chepauk')\n",
    "plt.tight_layout()\n",
    "plt.show()"
   ]
  },
  {
   "cell_type": "code",
   "execution_count": null,
   "id": "2c001252",
   "metadata": {},
   "outputs": [],
   "source": [
    "tie_venues = df[df['result'] == 'tie']['venue'].unique()\n",
    "print('Venues where matches resulted in a tie:', tie_venues)"
   ]
  },
  {
   "cell_type": "code",
   "execution_count": null,
   "id": "8e1b1436",
   "metadata": {},
   "outputs": [],
   "source": [
    "season_winners = df.groupby('season')['winner'].value_counts().groupby(level=0, group_keys=False).apply(lambda x: x.head(5))\n",
    "season_winners_unstacked = season_winners.unstack().fillna(0)\n",
    "season_winners_unstacked.plot(kind='bar', figsize=(15, 7), colormap='viridis')\n",
    "plt.xlabel('Season')\n",
    "plt.ylabel('Number of Wins')\n",
    "plt.title('Top 5 Teams Season-wise')\n",
    "plt.xticks(rotation=90)\n",
    "plt.legend(title='Teams')\n",
    "plt.tight_layout()\n",
    "plt.show()"
   ]
  },
  {
   "cell_type": "code",
   "execution_count": null,
   "id": "91b2c1ad",
   "metadata": {},
   "outputs": [],
   "source": [
    "plt.figure(figsize=(15, 7))\n",
    "sns.heatmap(season_winners_unstacked, annot=True, cmap='Spectral', linewidths=0.5)\n",
    "plt.xlabel('Teams')\n",
    "plt.ylabel('Season')\n",
    "plt.title('Top 5 Teams Season-wise (Heatmap)')\n",
    "plt.xticks(rotation=90)\n",
    "plt.tight_layout()\n",
    "plt.show()"
   ]
  },
  {
   "cell_type": "code",
   "execution_count": null,
   "id": "ef6537f5",
   "metadata": {},
   "outputs": [],
   "source": [
    "df['toss_win_match_win'] = df['toss_winner'] == df['winner']\n",
    "toss_win_counts = df['toss_win_match_win'].value_counts(normalize=True) * 100\n",
    "plt.figure(figsize=(8, 6))\n",
    "sns.barplot(x=toss_win_counts.index.map({False:'No', True:'Yes'}), y=toss_win_counts.values, palette='Set2')\n",
    "plt.xlabel('Did Toss Winner Win the Match?')\n",
    "plt.ylabel('Percentage (%)')\n",
    "plt.title('Impact of Toss Winning on Match Outcome')\n",
    "plt.tight_layout()\n",
    "plt.show()"
   ]
  },
  {
   "cell_type": "code",
   "execution_count": null,
   "id": "42bea385",
   "metadata": {},
   "outputs": [],
   "source": [
    "heatmap_data = df.pivot_table(index='season', columns='toss_win_match_win', aggfunc='size', fill_value=0)\n",
    "plt.figure(figsize=(12, 8))\n",
    "sns.heatmap(heatmap_data, annot=True, cmap='viridis', linewidths=0.5, cbar_kws={'label':'Count'})\n",
    "plt.xlabel('Did Toss Winner Win?')\n",
    "plt.ylabel('Season')\n",
    "plt.title('Impact of Toss Winning on Match Outcome (Heatmap)')\n",
    "plt.xticks(ticks=[0.5, 1.5], labels=['No', 'Yes'])\n",
    "plt.tight_layout()\n",
    "plt.show()"
   ]
  }
 ],
 "metadata": {},
 "nbformat": 4,
 "nbformat_minor": 5
}
