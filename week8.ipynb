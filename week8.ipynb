{
 "cells": [
  {
   "cell_type": "markdown",
   "id": "f2f1e2b4",
   "metadata": {},
   "source": [
    "# Week 8 IPL Deliveries Analysis"
   ]
  },
  {
   "cell_type": "code",
   "execution_count": null,
   "id": "d3c571d9",
   "metadata": {},
   "outputs": [],
   "source": [
    "import pandas as pd\n",
    "import matplotlib.pyplot as plt\n",
    "import seaborn as sns\n",
    "from IPython.display import display\n"
   ]
  },
  {
   "cell_type": "code",
   "execution_count": null,
   "id": "75bff7f7",
   "metadata": {},
   "outputs": [],
   "source": [
    "df = pd.read_csv('deliveries.csv')\n",
    "display(df.head())"
   ]
  },
  {
   "cell_type": "code",
   "execution_count": null,
   "id": "9ff799da",
   "metadata": {},
   "outputs": [],
   "source": [
    "runs = df.groupby('batting_team')['total_runs'].sum().reset_index()\n",
    "runs = runs.sort_values(by='total_runs', ascending=False)\n",
    "display(runs)\n",
    "plt.figure(figsize=(12, 6))\n",
    "sns.barplot(x='batting_team', y='total_runs', data=runs, palette='Set2')\n",
    "plt.xticks(rotation=90)\n",
    "plt.title('Total Runs Scored by Each Team')\n",
    "plt.xlabel('Team')\n",
    "plt.ylabel('Total Runs')\n",
    "plt.show()"
   ]
  },
  {
   "cell_type": "code",
   "execution_count": null,
   "id": "00bd789b",
   "metadata": {},
   "outputs": [],
   "source": [
    "batters = df.groupby('batter')['batsman_runs'].sum().reset_index()\n",
    "batters = batters.sort_values(by='batsman_runs', ascending=False).head(10)\n",
    "display(batters)\n",
    "plt.figure(figsize=(12, 6))\n",
    "sns.barplot(x='batter', y='batsman_runs', data=batters, palette='twilight')\n",
    "plt.xticks(rotation=90)\n",
    "plt.title('Top 10 Highest-Scoring Batters')\n",
    "plt.xlabel('Batsman')\n",
    "plt.ylabel('Total Runs')\n",
    "plt.show()"
   ]
  },
  {
   "cell_type": "code",
   "execution_count": null,
   "id": "7d505172",
   "metadata": {},
   "outputs": [],
   "source": [
    "wickets = df[df['dismissal_kind'].notna()].groupby('bowler')['dismissal_kind'].count().reset_index()\n",
    "bowlers = wickets.sort_values(by='dismissal_kind', ascending=False).head(10)\n",
    "display(bowlers)\n",
    "plt.figure(figsize=(12, 6))\n",
    "sns.barplot(x='bowler', y='dismissal_kind', data=bowlers, palette='Set2')\n",
    "plt.xticks(rotation=90)\n",
    "plt.title('Top 10 Bowlers with Most Wickets')\n",
    "plt.xlabel('Bowler')\n",
    "plt.ylabel('Number of Wickets')\n",
    "plt.show()"
   ]
  },
  {
   "cell_type": "code",
   "execution_count": null,
   "id": "5e42c489",
   "metadata": {},
   "outputs": [],
   "source": [
    "team_extras = df.groupby('bowling_team')['extra_runs'].sum().reset_index()\n",
    "team_extras = team_extras.sort_values(by='extra_runs', ascending=False)\n",
    "display(team_extras)\n",
    "plt.figure(figsize=(12, 6))\n",
    "sns.barplot(x='bowling_team', y='extra_runs', data=team_extras, palette='Dark2')\n",
    "plt.xticks(rotation=90)\n",
    "plt.title('Total Extras Conceded by Each Team')\n",
    "plt.xlabel('Team')\n",
    "plt.ylabel('Extras Conceded')\n",
    "plt.show()"
   ]
  },
  {
   "cell_type": "code",
   "execution_count": null,
   "id": "766c6e93",
   "metadata": {},
   "outputs": [],
   "source": [
    "run_outs = df[df['dismissal_kind'] == 'run out'].groupby('batter')['dismissal_kind'].count().reset_index()\n",
    "top_run_outs = run_outs.sort_values(by='dismissal_kind', ascending=False).head(5)\n",
    "print(top_run_outs)\n",
    "plt.figure(figsize=(12, 6))\n",
    "sns.barplot(x='batter', y='dismissal_kind', data=top_run_outs, palette='magma')\n",
    "plt.xticks(rotation=90)\n",
    "plt.title('Top 5 Batsmen Involved in the Most Run-Outs')\n",
    "plt.xlabel('Batsman')\n",
    "plt.ylabel('Number of Run-Outs')\n",
    "plt.show()"
   ]
  },
  {
   "cell_type": "code",
   "execution_count": null,
   "id": "c541e545",
   "metadata": {},
   "outputs": [],
   "source": [
    "bowler_extras = df.groupby('bowler')['extra_runs'].sum().reset_index()\n",
    "top_bowler_extras = bowler_extras.sort_values(by='extra_runs', ascending=False).head(5)\n",
    "display(top_bowler_extras)\n",
    "plt.figure(figsize=(12, 6))\n",
    "sns.barplot(x='bowler', y='extra_runs', data=top_bowler_extras, palette='viridis')\n",
    "plt.xticks(rotation=90)\n",
    "plt.title('Top 5 Bowlers Conceding the Most Extras')\n",
    "plt.xlabel('Bowler')\n",
    "plt.ylabel('Extras Conceded')\n",
    "plt.show()"
   ]
  },
  {
   "cell_type": "code",
   "execution_count": null,
   "id": "a72fcc8e",
   "metadata": {},
   "outputs": [],
   "source": [
    "dismissal_types = df['dismissal_kind'].value_counts().reset_index()\n",
    "dismissal_types.columns = ['Dismissal Type', 'Count']\n",
    "display(dismissal_types)\n",
    "plt.figure(figsize=(12, 6))\n",
    "sns.barplot(x='Dismissal Type', y='Count', data=dismissal_types)\n",
    "plt.xticks(rotation=90)\n",
    "plt.title('Most Common Dismissal Types')\n",
    "plt.xlabel('Dismissal Type')\n",
    "plt.ylabel('Count')\n",
    "plt.show()"
   ]
  },
  {
   "cell_type": "code",
   "execution_count": null,
   "id": "04c24951",
   "metadata": {},
   "outputs": [],
   "source": [
    "over_runs = df.groupby('over')['total_runs'].sum().reset_index()\n",
    "over_balls = df.groupby('over')['ball'].count().reset_index()\n",
    "over_stats = pd.merge(over_runs, over_balls, on='over')\n",
    "over_stats['run_rate'] = over_stats['total_runs'] / (over_stats['ball'] / 6)\n",
    "top_overs = over_stats.sort_values(by='run_rate', ascending=False).head(3)\n",
    "print(top_overs)\n",
    "plt.figure(figsize=(12, 6))\n",
    "sns.barplot(x='over', y='run_rate', data=top_overs)\n",
    "plt.title('Top 3 Overs with Highest Run Rate')\n",
    "plt.xlabel('Over')\n",
    "plt.ylabel('Run Rate')\n",
    "plt.show()"
   ]
  },
  {
   "cell_type": "code",
   "execution_count": null,
   "id": "776f2b35",
   "metadata": {},
   "outputs": [],
   "source": [
    "powerplay = df[df['over'] <= 6]\n",
    "powerplay_runs = powerplay.groupby('over')['total_runs'].sum().reset_index()\n",
    "plt.figure(figsize=(12, 6))\n",
    "sns.lineplot(x='over', y='total_runs', data=powerplay_runs, marker='o')\n",
    "plt.title('Powerplay Performance (First 6 Overs)')\n",
    "plt.xlabel('Over')\n",
    "plt.ylabel('Total Runs')\n",
    "plt.show()"
   ]
  },
  {
   "cell_type": "code",
   "execution_count": null,
   "id": "13a7d634",
   "metadata": {},
   "outputs": [],
   "source": [
    "sixes = df[df['batsman_runs'] == 6].groupby('batter')['batsman_runs'].count().reset_index().rename(columns={'batsman_runs': 'sixes'})\n",
    "fours = df[df['batsman_runs'] == 4].groupby('batter')['batsman_runs'].count().reset_index().rename(columns={'batsman_runs': 'fours'})\n",
    "batsman_sixes_fours = pd.merge(sixes, fours, on='batter', how='outer').fillna(0)\n",
    "top_batsmen = batsman_sixes_fours.sort_values(by='sixes', ascending=False).head(5)\n",
    "display(top_batsmen)\n",
    "plt.figure(figsize=(12, 6))\n",
    "top_batsmen.set_index('batter')[['sixes', 'fours']].plot(kind='bar')\n",
    "plt.title('Top 5 Batsmen with Most Sixes and Fours')\n",
    "plt.xlabel('Batsman')\n",
    "plt.ylabel('Count')\n",
    "plt.tight_layout()\n",
    "plt.show()"
   ]
  }
 ],
 "metadata": {},
 "nbformat": 4,
 "nbformat_minor": 5
}
