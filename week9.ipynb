{
 "cells": [
  {
   "cell_type": "markdown",
   "id": "f570bab8",
   "metadata": {},
   "source": [
    "# Week 9 Sentiment Analysis Notebook"
   ]
  },
  {
   "cell_type": "code",
   "execution_count": null,
   "id": "22caed79",
   "metadata": {},
   "outputs": [],
   "source": [
    "import pandas as pd\n",
    "import matplotlib.pyplot as plt\n",
    "import seaborn as sns\n",
    "from IPython.display import display\n"
   ]
  },
  {
   "cell_type": "code",
   "execution_count": null,
   "id": "c1d19a80",
   "metadata": {},
   "outputs": [],
   "source": [
    "# Load and display the first few rows\n",
    "df = pd.read_csv('sentiment.csv')\n",
    "display(df.head())"
   ]
  },
  {
   "cell_type": "code",
   "execution_count": null,
   "id": "6d687ae4",
   "metadata": {},
   "outputs": [],
   "source": [
    "# Preprocess text and sentiment columns\n",
    "df['Sentiment'] = df['Sentiment'].str.strip().str.lower()\n",
    "df['Text'] = df['Text'].str.strip().str.lower()\n",
    "display(df[['Text', 'Sentiment']].head())"
   ]
  },
  {
   "cell_type": "code",
   "execution_count": null,
   "id": "998aaf2a",
   "metadata": {},
   "outputs": [],
   "source": [
    "# Sentiment distribution\n",
    "sent_counts = df['Sentiment'].value_counts()\n",
    "display(sent_counts)\n",
    "plt.figure(figsize=(12, 6))\n",
    "sns.barplot(x=sent_counts.index, y=sent_counts.values, palette='pastel')\n",
    "plt.xticks(rotation=90)\n",
    "plt.title('Sentiment Distribution')\n",
    "plt.xlabel('Sentiment')\n",
    "plt.ylabel('Count')\n",
    "plt.show()"
   ]
  },
  {
   "cell_type": "code",
   "execution_count": null,
   "id": "ce60e2ff",
   "metadata": {},
   "outputs": [],
   "source": [
    "# Text length analysis by sentiment\n",
    "df['Text_length'] = df['Text'].str.len()\n",
    "length_means = df.groupby('Sentiment')['Text_length'].mean().sort_values(ascending=False)\n",
    "display(length_means)\n",
    "plt.figure(figsize=(12, 6))\n",
    "sns.barplot(x=length_means.index, y=length_means.values)\n",
    "plt.xticks(rotation=90)\n",
    "plt.title('Average Text Length by Sentiment')\n",
    "plt.xlabel('Sentiment')\n",
    "plt.ylabel('Average Length')\n",
    "plt.show()"
   ]
  },
  {
   "cell_type": "code",
   "execution_count": null,
   "id": "44658b15",
   "metadata": {},
   "outputs": [],
   "source": [
    "# Texts with maximum likes and retweets\n",
    "max_likes = df['Likes'].max()\n",
    "max_likes_texts = df[df['Likes'] == max_likes]['Text']\n",
    "print(f\"Text(s) with Maximum Likes ({max_likes}):\")\n",
    "print(max_likes_texts.to_list())\n",
    "\n",
    "max_retweets = df['Retweets'].max()\n",
    "max_retweets_df = df[df['Retweets'] == max_retweets][['Text', 'Sentiment']]\n",
    "print(f\"\\nText(s) with Maximum Retweets ({max_retweets}):\")\n",
    "display(max_retweets_df)"
   ]
  },
  {
   "cell_type": "code",
   "execution_count": null,
   "id": "332bf1ac",
   "metadata": {},
   "outputs": [],
   "source": [
    "# Top 5 countries with most positive tweets\n",
    "positive_tweets = df[df['Sentiment'] == 'positive']\n",
    "top5_countries = positive_tweets['Country'].value_counts().head(5)\n",
    "display(top5_countries)\n",
    "plt.figure(figsize=(10, 6))\n",
    "sns.barplot(x=top5_countries.index, y=top5_countries.values)\n",
    "plt.title('Top 5 Countries by Positive Tweets')\n",
    "plt.xlabel('Country')\n",
    "plt.ylabel('Number of Positive Tweets')\n",
    "plt.show()"
   ]
  },
  {
   "cell_type": "code",
   "execution_count": null,
   "id": "d22def02",
   "metadata": {},
   "outputs": [],
   "source": [
    "# Tweets containing 'Travel' in hashtags\n",
    "travel_tweets = df[df['Hashtags'].str.contains('Travel', case=False, na=False)]\n",
    "display(travel_tweets[['Text', 'Hashtags']])"
   ]
  },
  {
   "cell_type": "code",
   "execution_count": null,
   "id": "b3f0c459",
   "metadata": {},
   "outputs": [],
   "source": [
    "# Top 5 negative tweets from 2020 by likes\n",
    "neg_2020 = df[(df['Year'] == 2020) & (df['Sentiment'] == 'negative')]\n",
    "top5_neg_2020 = neg_2020.nlargest(5, 'Likes')[['Text', 'Likes']]\n",
    "display(top5_neg_2020)"
   ]
  },
  {
   "cell_type": "code",
   "execution_count": null,
   "id": "c7441b0e",
   "metadata": {},
   "outputs": [],
   "source": [
    "# Users and posts with 'happiness' sentiment\n",
    "happy_posts = df[df['Sentiment'] == 'happiness'][['User', 'Text']]\n",
    "display(happy_posts)"
   ]
  },
  {
   "cell_type": "code",
   "execution_count": null,
   "id": "34bebbfc",
   "metadata": {},
   "outputs": [],
   "source": [
    "# Year and Country tweet counts by sentiment\n",
    "sel = df[df['Sentiment'].isin(['positive', 'negative', 'neutral'])]\n",
    "year_country_sent = sel.groupby(['Year', 'Country', 'Sentiment']).size().unstack(fill_value=0)\n",
    "display(year_country_sent)\n",
    "year_country_sent.plot(kind='bar', stacked=True, figsize=(15, 7))\n",
    "plt.title('Year-Country Tweet Counts by Sentiment')\n",
    "plt.xlabel('Year, Country')\n",
    "plt.ylabel('Tweet Count')\n",
    "plt.tight_layout()\n",
    "plt.show()"
   ]
  }
 ],
 "metadata": {},
 "nbformat": 4,
 "nbformat_minor": 5
}
